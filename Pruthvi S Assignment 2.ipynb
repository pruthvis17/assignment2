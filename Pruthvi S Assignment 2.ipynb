{
 "cells": [
  {
   "cell_type": "markdown",
   "metadata": {},
   "source": [
    "## Q2."
   ]
  },
  {
   "cell_type": "code",
   "execution_count": 1,
   "metadata": {},
   "outputs": [
    {
     "name": "stdout",
     "output_type": "stream",
     "text": [
      " user's name : pruthvi\n",
      "ivhturp\n"
     ]
    }
   ],
   "source": [
    "# 2)Write a Python program to reverse a word after accepting the input from the user.\n",
    "name=str(input(\" user's name : \")) \n",
    "print(name[::-1])"
   ]
  },
  {
   "cell_type": "markdown",
   "metadata": {},
   "source": [
    "## Q1."
   ]
  },
  {
   "cell_type": "code",
   "execution_count": 2,
   "metadata": {},
   "outputs": [
    {
     "name": "stdout",
     "output_type": "stream",
     "text": [
      "\n",
      "* \n",
      "* * \n",
      "* * * \n",
      "* * * * \n",
      "* * * * * \n",
      "* * * * \n",
      "* * * \n",
      "* * \n",
      "* \n"
     ]
    }
   ],
   "source": [
    " # 1)1. Create the below pattern using nested for loop in Python.\n",
    "#         *\n",
    "#         * *\n",
    "#         * * *\n",
    "#         * * * *\n",
    "#         * * * * *\n",
    "#         * * * *\n",
    "#         * * *\n",
    "#         * *\n",
    "#         *\n",
    "n=5;\n",
    "for i in range(n):\n",
    "    for j in range(i):\n",
    "        print ('* ', end=\"\")\n",
    "    print('')\n",
    "    \n",
    "for i in range(n,0,-1):\n",
    "        for j in range(i):\n",
    "            print ('* ', end=\"\")\n",
    "        print('')\n",
    "\n",
    "        \n"
   ]
  }
 ],
 "metadata": {
  "kernelspec": {
   "display_name": "Python 3",
   "language": "python",
   "name": "python3"
  },
  "language_info": {
   "codemirror_mode": {
    "name": "ipython",
    "version": 3
   },
   "file_extension": ".py",
   "mimetype": "text/x-python",
   "name": "python",
   "nbconvert_exporter": "python",
   "pygments_lexer": "ipython3",
   "version": "3.7.6"
  }
 },
 "nbformat": 4,
 "nbformat_minor": 4
}
